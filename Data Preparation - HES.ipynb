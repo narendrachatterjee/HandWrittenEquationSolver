{
 "cells": [
  {
   "cell_type": "code",
   "execution_count": 1,
   "id": "cce2bb01",
   "metadata": {},
   "outputs": [],
   "source": [
    "import numpy as np\n",
    "import cv2\n",
    "from PIL import Image\n",
    "from matplotlib import pyplot as plt\n",
    "%matplotlib inline\n",
    "import os\n",
    "from os import listdir\n",
    "from os.path import isfile, join\n",
    "import pandas as pd\n",
    "import pickle"
   ]
  },
  {
   "cell_type": "code",
   "execution_count": 2,
   "id": "7dcd98a5",
   "metadata": {},
   "outputs": [
    {
     "name": "stdout",
     "output_type": "stream",
     "text": [
      "['!', '(', ')', '+', ',', '-', '0', '1', '2', '3', '4', '5', '6', '7', '8', '9', '=', 'A', 'alpha', 'ascii_124', 'b', 'beta', 'C', 'cos', 'd', 'Delta', 'div', 'e', 'exists', 'f', 'forall', 'forward_slash', 'G', 'gamma', 'geq', 'gt', 'H', 'i', 'in', 'infty', 'int', 'j', 'k', 'l', 'lambda', 'ldots', 'leq', 'lim', 'log', 'lt', 'M', 'mu', 'N', 'neq', 'o', 'p', 'phi', 'pi', 'pm', 'prime', 'q', 'R', 'rightarrow', 'S', 'sigma', 'sin', 'sqrt', 'sum', 'T', 'tan', 'theta', 'times', 'u', 'v', 'w', 'X', 'y', 'z', '[', ']', '{', '}']\n"
     ]
    }
   ],
   "source": [
    "path = 'D:/Data Science & Data Analytics Projects/Handwritten Equation Solver/dataset/data/extracted_images'\n",
    "\n",
    "symbols = os.listdir(path)\n",
    "print(symbols)"
   ]
  },
  {
   "cell_type": "code",
   "execution_count": 3,
   "id": "d0b6131e",
   "metadata": {},
   "outputs": [],
   "source": [
    "def load_images_from_folder(folder):\n",
    "    train_data = [] # empty list for storing the image sets\n",
    "    for filename in os.listdir(folder):\n",
    "        # Reading the images one by one using CV2 library\n",
    "        img = cv2.imread(os.path.join(folder, filename))\n",
    "        img = cv2.cvtColor(img, cv2.COLOR_BGR2GRAY)\n",
    "        img =~ img\n",
    "        if img is not None:\n",
    "            ret, thresh = cv2.threshold(img, 127, 255, cv2.THRESH_BINARY)\n",
    "            ctrs, hie = cv2.findContours(thresh, cv2.RETR_EXTERNAL, cv2.CHAIN_APPROX_NONE)\n",
    "            cnt = sorted(ctrs, key=lambda ctr: cv2.boundingRect(ctr)[0])\n",
    "            w = int(28)\n",
    "            h = int(28)\n",
    "            max_i = 0\n",
    "            for c in cnt:\n",
    "                x,y,w,h = cv2.boundingRect(c)\n",
    "                max_i = max(w*h,max_i)\n",
    "                if max_i==(w*h):\n",
    "                    max_x = x\n",
    "                    max_y = y\n",
    "                    max_w = w\n",
    "                    max_h = h\n",
    "            img_crop = thresh[max_y : max_y + max_h + 10, max_x : max_x + max_w + 10]\n",
    "            img_resize = cv2.resize(img_crop, (28,28))\n",
    "            img_resize = np.reshape(img_resize, (784, 1))\n",
    "            train_data.append(img_resize)\n",
    "    return train_data\n",
    "data = []"
   ]
  },
  {
   "cell_type": "code",
   "execution_count": 4,
   "id": "1b393ca3",
   "metadata": {},
   "outputs": [
    {
     "name": "stdout",
     "output_type": "stream",
     "text": [
      "33997\n"
     ]
    }
   ],
   "source": [
    "# Assigning '-' to column 10\n",
    "data = load_images_from_folder('D:\\Data Science & Data Analytics Projects\\Handwritten Equation Solver\\dataset\\data\\extracted_images\\-')\n",
    "len(data)\n",
    "for i in range(0, len(data)):\n",
    "    data[i] = np.append(data[i], ['10'])\n",
    "    \n",
    "print(len(data))"
   ]
  },
  {
   "cell_type": "code",
   "execution_count": 5,
   "id": "1736cf2d",
   "metadata": {},
   "outputs": [
    {
     "name": "stdout",
     "output_type": "stream",
     "text": [
      "40911\n"
     ]
    }
   ],
   "source": [
    "# Assigning '0' to column 0\n",
    "data0=load_images_from_folder('D:\\\\Data Science & Data Analytics Projects\\\\Handwritten Equation Solver\\\\dataset\\\\data\\\\extracted_images\\\\0')\n",
    "\n",
    "for i in range(0,len(data0)):\n",
    "    data0[i]=np.append(data0[i],['0'])\n",
    "data=np.concatenate((data,data0))\n",
    "print(len(data))"
   ]
  },
  {
   "cell_type": "code",
   "execution_count": 6,
   "id": "e41485cc",
   "metadata": {},
   "outputs": [
    {
     "name": "stdout",
     "output_type": "stream",
     "text": [
      "67431\n"
     ]
    }
   ],
   "source": [
    "# Assigning '1' to column 1\n",
    "data1=load_images_from_folder('D:\\\\Data Science & Data Analytics Projects\\\\Handwritten Equation Solver\\\\dataset\\\\data\\\\extracted_images\\\\1')\n",
    "\n",
    "for i in range(0,len(data1)):\n",
    "    data1[i]=np.append(data1[i],['1'])\n",
    "data=np.concatenate((data,data1))\n",
    "print(len(data))"
   ]
  },
  {
   "cell_type": "code",
   "execution_count": 7,
   "id": "aba04fd5",
   "metadata": {},
   "outputs": [
    {
     "name": "stdout",
     "output_type": "stream",
     "text": [
      "93572\n"
     ]
    }
   ],
   "source": [
    "# Assigning '2' to column 2\n",
    "data2=load_images_from_folder('D:\\\\Data Science & Data Analytics Projects\\\\Handwritten Equation Solver\\\\dataset\\\\data\\\\extracted_images\\\\2')\n",
    "\n",
    "for i in range(0,len(data2)):\n",
    "    data2[i]=np.append(data2[i],['2'])\n",
    "data=np.concatenate((data,data2))\n",
    "print(len(data))"
   ]
  },
  {
   "cell_type": "code",
   "execution_count": 8,
   "id": "d98da041",
   "metadata": {},
   "outputs": [
    {
     "name": "stdout",
     "output_type": "stream",
     "text": [
      "104481\n"
     ]
    }
   ],
   "source": [
    "# Assigning '3' to column 3\n",
    "data3=load_images_from_folder('D:\\\\Data Science & Data Analytics Projects\\\\Handwritten Equation Solver\\\\dataset\\\\data\\\\extracted_images\\\\3')\n",
    "\n",
    "for i in range(0,len(data3)):\n",
    "    data3[i]=np.append(data3[i],['3'])\n",
    "data=np.concatenate((data,data3))\n",
    "print(len(data))"
   ]
  },
  {
   "cell_type": "code",
   "execution_count": 9,
   "id": "25be394e",
   "metadata": {},
   "outputs": [
    {
     "name": "stdout",
     "output_type": "stream",
     "text": [
      "111877\n"
     ]
    }
   ],
   "source": [
    "# Assigning '4' to column 4\n",
    "data4=load_images_from_folder('D:\\\\Data Science & Data Analytics Projects\\\\Handwritten Equation Solver\\\\dataset\\\\data\\\\extracted_images\\\\4')\n",
    "\n",
    "for i in range(0,len(data4)):\n",
    "    data4[i]=np.append(data4[i],['4'])\n",
    "data=np.concatenate((data,data4))\n",
    "print(len(data))"
   ]
  },
  {
   "cell_type": "code",
   "execution_count": 10,
   "id": "da93a61f",
   "metadata": {},
   "outputs": [
    {
     "name": "stdout",
     "output_type": "stream",
     "text": [
      "115422\n"
     ]
    }
   ],
   "source": [
    "# Assigning '5' to column 5\n",
    "data5=load_images_from_folder('D:\\\\Data Science & Data Analytics Projects\\\\Handwritten Equation Solver\\\\dataset\\\\data\\\\extracted_images\\\\5')\n",
    "\n",
    "for i in range(0,len(data5)):\n",
    "    data5[i]=np.append(data5[i],['5'])\n",
    "data=np.concatenate((data,data5))\n",
    "print(len(data))"
   ]
  },
  {
   "cell_type": "code",
   "execution_count": 11,
   "id": "c02acb5a",
   "metadata": {},
   "outputs": [
    {
     "name": "stdout",
     "output_type": "stream",
     "text": [
      "118540\n"
     ]
    }
   ],
   "source": [
    "# Assigning '6' to column 6\n",
    "data6=load_images_from_folder('D:\\\\Data Science & Data Analytics Projects\\\\Handwritten Equation Solver\\\\dataset\\\\data\\\\extracted_images\\\\6')\n",
    "for i in range(0,len(data6)):\n",
    "    data6[i]=np.append(data6[i],['6'])\n",
    "data=np.concatenate((data,data6))\n",
    "print(len(data))"
   ]
  },
  {
   "cell_type": "code",
   "execution_count": 12,
   "id": "8cd39253",
   "metadata": {},
   "outputs": [
    {
     "name": "stdout",
     "output_type": "stream",
     "text": [
      "121449\n"
     ]
    }
   ],
   "source": [
    "# Assigning '7' to column 7\n",
    "data7=load_images_from_folder('D:\\\\Data Science & Data Analytics Projects\\\\Handwritten Equation Solver\\\\dataset\\\\data\\\\extracted_images\\\\7')\n",
    "\n",
    "for i in range(0,len(data7)):\n",
    "    data7[i]=np.append(data7[i],['7'])\n",
    "data=np.concatenate((data,data7))\n",
    "print(len(data))"
   ]
  },
  {
   "cell_type": "code",
   "execution_count": 13,
   "id": "322e36c5",
   "metadata": {},
   "outputs": [
    {
     "name": "stdout",
     "output_type": "stream",
     "text": [
      "124517\n"
     ]
    }
   ],
   "source": [
    "# Assigning '8' to column 8\n",
    "data8=load_images_from_folder('D:\\\\Data Science & Data Analytics Projects\\\\Handwritten Equation Solver\\\\dataset\\\\data\\\\extracted_images\\\\8')\n",
    "\n",
    "for i in range(0,len(data8)):\n",
    "    data8[i]=np.append(data8[i],['8'])\n",
    "data=np.concatenate((data,data8))\n",
    "print(len(data))"
   ]
  },
  {
   "cell_type": "code",
   "execution_count": 14,
   "id": "23f0a25d",
   "metadata": {},
   "outputs": [
    {
     "name": "stdout",
     "output_type": "stream",
     "text": [
      "128254\n"
     ]
    }
   ],
   "source": [
    "# Assigning '9' to column 9\n",
    "data9=load_images_from_folder('D:\\\\Data Science & Data Analytics Projects\\\\Handwritten Equation Solver\\\\dataset\\\\data\\\\extracted_images\\\\9')\n",
    "\n",
    "for i in range(0,len(data9)):\n",
    "    data9[i]=np.append(data9[i],['9'])\n",
    "data=np.concatenate((data,data9))\n",
    "print(len(data))"
   ]
  },
  {
   "cell_type": "code",
   "execution_count": 15,
   "id": "fe4cd442",
   "metadata": {},
   "outputs": [
    {
     "name": "stdout",
     "output_type": "stream",
     "text": [
      "153366\n"
     ]
    }
   ],
   "source": [
    "# Assigning '+' to column 11\n",
    "data11=load_images_from_folder('D:\\Data Science & Data Analytics Projects\\Handwritten Equation Solver\\dataset\\data\\extracted_images\\+')\n",
    "\n",
    "for i in range(0,len(data11)):\n",
    "    data11[i]=np.append(data11[i],['11'])\n",
    "data=np.concatenate((data,data11))\n",
    "print(len(data))"
   ]
  },
  {
   "cell_type": "code",
   "execution_count": 16,
   "id": "136f09e0",
   "metadata": {},
   "outputs": [
    {
     "name": "stdout",
     "output_type": "stream",
     "text": [
      "154234\n"
     ]
    }
   ],
   "source": [
    "# Assigning '/' to column 12\n",
    "data12=load_images_from_folder('D:\\Data Science & Data Analytics Projects\\Handwritten Equation Solver\\dataset\\data\\extracted_images\\div')\n",
    "\n",
    "for i in range(0,len(data12)):\n",
    "    data12[i]=np.append(data12[i],['12'])\n",
    "data=np.concatenate((data,data12))\n",
    "print(len(data))"
   ]
  },
  {
   "cell_type": "code",
   "execution_count": 17,
   "id": "30ba97f5",
   "metadata": {},
   "outputs": [
    {
     "name": "stdout",
     "output_type": "stream",
     "text": [
      "157485\n"
     ]
    }
   ],
   "source": [
    "# Assigning '*' to column 13\n",
    "data13=load_images_from_folder('D:\\\\Data Science & Data Analytics Projects\\\\Handwritten Equation Solver\\\\dataset\\\\data\\\\extracted_images\\\\times')\n",
    "\n",
    "for i in range(0,len(data13)):\n",
    "    data13[i]=np.append(data13[i],['13'])\n",
    "data=np.concatenate((data,data13))\n",
    "print(len(data))"
   ]
  },
  {
   "cell_type": "markdown",
   "id": "1df58be4",
   "metadata": {},
   "source": [
    "<h2> Dataframe creation"
   ]
  },
  {
   "cell_type": "code",
   "execution_count": 18,
   "id": "58274b0c",
   "metadata": {},
   "outputs": [],
   "source": [
    "df = pd.DataFrame(data, index=None)\n",
    "df.to_csv('train.csv', index=False)"
   ]
  }
 ],
 "metadata": {
  "kernelspec": {
   "display_name": "Python 3 (ipykernel)",
   "language": "python",
   "name": "python3"
  },
  "language_info": {
   "codemirror_mode": {
    "name": "ipython",
    "version": 3
   },
   "file_extension": ".py",
   "mimetype": "text/x-python",
   "name": "python",
   "nbconvert_exporter": "python",
   "pygments_lexer": "ipython3",
   "version": "3.10.9"
  }
 },
 "nbformat": 4,
 "nbformat_minor": 5
}
